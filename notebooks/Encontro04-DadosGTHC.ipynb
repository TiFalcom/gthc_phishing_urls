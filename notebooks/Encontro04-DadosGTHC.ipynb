{
 "cells": [
  {
   "cell_type": "markdown",
   "id": "7c6e0cd8",
   "metadata": {},
   "source": [
    "# GTHC Dados - Encontro 04: Pandas"
   ]
  },
  {
   "cell_type": "markdown",
   "id": "6a3aa158",
   "metadata": {},
   "source": [
    "### Imports"
   ]
  },
  {
   "cell_type": "code",
   "execution_count": null,
   "id": "5bfde02f",
   "metadata": {},
   "outputs": [],
   "source": [
    "import pandas as pd"
   ]
  },
  {
   "cell_type": "code",
   "execution_count": null,
   "id": "0de6e88b",
   "metadata": {},
   "outputs": [],
   "source": [
    "#Importa Dataset\n",
    "df = pd.read_csv('')"
   ]
  },
  {
   "cell_type": "markdown",
   "id": "38815401",
   "metadata": {},
   "source": [
    "### Formas de vizualização "
   ]
  },
  {
   "cell_type": "code",
   "execution_count": null,
   "id": "7f8862b1",
   "metadata": {},
   "outputs": [],
   "source": [
    "#mostra primeiras linhas do dataset \n",
    "df.head()"
   ]
  },
  {
   "cell_type": "code",
   "execution_count": null,
   "id": "1dadb239",
   "metadata": {},
   "outputs": [],
   "source": [
    "#mostra ultimas linhas do dataset \n",
    "df.tail()"
   ]
  },
  {
   "cell_type": "code",
   "execution_count": null,
   "id": "ff536010",
   "metadata": {},
   "outputs": [],
   "source": [
    "#retorna num de linhas x num de colunas\n",
    "df.shape"
   ]
  },
  {
   "cell_type": "code",
   "execution_count": null,
   "id": "cc01ac36",
   "metadata": {},
   "outputs": [],
   "source": [
    "#retorna nome das colunas\n",
    "df.columns"
   ]
  },
  {
   "cell_type": "code",
   "execution_count": null,
   "id": "e634af30",
   "metadata": {},
   "outputs": [],
   "source": [
    "#retorna o tipo de dado de cada coluna\n",
    "df.dtypes"
   ]
  },
  {
   "cell_type": "code",
   "execution_count": null,
   "id": "e68f51ed",
   "metadata": {
    "scrolled": true
   },
   "outputs": [],
   "source": [
    "#gera estatísticas descritivas \n",
    "df.describe()"
   ]
  },
  {
   "cell_type": "code",
   "execution_count": null,
   "id": "3779bf89",
   "metadata": {},
   "outputs": [],
   "source": [
    "df.Age.describe()"
   ]
  },
  {
   "cell_type": "markdown",
   "id": "103c9236",
   "metadata": {},
   "source": [
    "count: número de observações não nulas em uma coluna.\n",
    "\n",
    "mean: média dos valores na coluna.\n",
    "\n",
    "std: desvio padrão dos valores na coluna.\n",
    "\n",
    "min: valor mínimo na coluna.\n",
    "\n",
    "25%, 50%, 75%: valores dos quartis (primeiro, segundo e terceiro quartis).\n",
    "\n",
    "max: valor máximo na coluna."
   ]
  },
  {
   "cell_type": "code",
   "execution_count": null,
   "id": "9a21cce3",
   "metadata": {},
   "outputs": [],
   "source": [
    "df.info()"
   ]
  },
  {
   "cell_type": "markdown",
   "id": "4d357602",
   "metadata": {},
   "source": [
    "### Manipulação de dados"
   ]
  },
  {
   "cell_type": "code",
   "execution_count": null,
   "id": "cbc6cd19",
   "metadata": {},
   "outputs": [],
   "source": [
    "#Criar nova coluna\n",
    "df['NewCol'] = 1"
   ]
  },
  {
   "cell_type": "code",
   "execution_count": null,
   "id": "d48da6e4",
   "metadata": {},
   "outputs": [],
   "source": [
    "df.head()"
   ]
  },
  {
   "cell_type": "code",
   "execution_count": null,
   "id": "ea5da403",
   "metadata": {},
   "outputs": [],
   "source": [
    "#Excuindo uma coluna\n",
    "del df['NewCol']"
   ]
  },
  {
   "cell_type": "code",
   "execution_count": null,
   "id": "431ea405",
   "metadata": {},
   "outputs": [],
   "source": [
    "df.head()"
   ]
  },
  {
   "cell_type": "code",
   "execution_count": null,
   "id": "101882f1",
   "metadata": {},
   "outputs": [],
   "source": [
    "#Excluindo várias colunas\n",
    "df_droped = df.drop(columns=['Age','Gender'])"
   ]
  },
  {
   "cell_type": "code",
   "execution_count": null,
   "id": "30a34f71",
   "metadata": {},
   "outputs": [],
   "source": [
    "df_droped.head()"
   ]
  },
  {
   "cell_type": "code",
   "execution_count": null,
   "id": "ae7ea6ad",
   "metadata": {},
   "outputs": [],
   "source": [
    "#Agrupando por coluna\n",
    "grouped = df.groupby(['Gender'],as_index=False)['Age'].count()\n",
    "grouped"
   ]
  },
  {
   "cell_type": "code",
   "execution_count": null,
   "id": "63b8229f",
   "metadata": {
    "scrolled": true
   },
   "outputs": [],
   "source": [
    "grouped1= df.groupby(['Marital Status'], as_index=False)['Age'].count()\n",
    "grouped1"
   ]
  },
  {
   "cell_type": "code",
   "execution_count": null,
   "id": "70d702bc",
   "metadata": {},
   "outputs": [],
   "source": [
    "grouped2 = df.groupby([\"Age\",'Gender'],as_index=False).count()\n",
    "grouped2"
   ]
  },
  {
   "cell_type": "code",
   "execution_count": null,
   "id": "57ce7a00",
   "metadata": {},
   "outputs": [],
   "source": [
    "grouped2.sort_values(by='Age', ascending=False)"
   ]
  },
  {
   "cell_type": "code",
   "execution_count": null,
   "id": "5c8f06df",
   "metadata": {},
   "outputs": [],
   "source": []
  }
 ],
 "metadata": {
  "kernelspec": {
   "display_name": "Python 3 (ipykernel)",
   "language": "python",
   "name": "python3"
  },
  "language_info": {
   "codemirror_mode": {
    "name": "ipython",
    "version": 3
   },
   "file_extension": ".py",
   "mimetype": "text/x-python",
   "name": "python",
   "nbconvert_exporter": "python",
   "pygments_lexer": "ipython3",
   "version": "3.11.5"
  }
 },
 "nbformat": 4,
 "nbformat_minor": 5
}
