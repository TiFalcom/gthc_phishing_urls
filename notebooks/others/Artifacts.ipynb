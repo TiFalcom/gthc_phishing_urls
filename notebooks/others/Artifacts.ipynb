{
 "cells": [
  {
   "cell_type": "code",
   "execution_count": 1,
   "metadata": {},
   "outputs": [],
   "source": [
    "import pandas as pd\n",
    "import numpy as np\n",
    "import psycopg2\n",
    "import pandas as pd\n",
    "import pandas.io.sql as psql\n",
    "from sqlalchemy import create_engine, text\n",
    "import yaml\n",
    "from pathlib import Path\n",
    "import sys\n",
    "import os\n",
    "\n",
    "import pickle\n",
    "from sklearn.tree import DecisionTreeClassifier\n",
    "from sklearn.model_selection import train_test_split\n",
    "from sklearn.metrics import precision_score, roc_auc_score, recall_score\n",
    "from sklearn.pipeline import Pipeline\n",
    "\n",
    "project_dir = Path('__main__').resolve().parent.parent\n",
    "sys.path.append(os.path.join(project_dir, 'src'))\n",
    "\n",
    "from src.utils.transformers import FeatureEngine, FeatureSelector"
   ]
  },
  {
   "cell_type": "code",
   "execution_count": 3,
   "metadata": {},
   "outputs": [],
   "source": [
    "clf = pickle.load(open(os.path.join(project_dir, 'models', 'model.pkl'), 'rb'))"
   ]
  },
  {
   "cell_type": "code",
   "execution_count": 5,
   "metadata": {},
   "outputs": [],
   "source": [
    "featureEngine = FeatureEngine()"
   ]
  },
  {
   "cell_type": "code",
   "execution_count": 6,
   "metadata": {},
   "outputs": [],
   "source": [
    "featureSelector = FeatureSelector(['url_length', 'n_dots', 'n_hypens', 'n_underline', 'n_slash',\n",
    "       'n_questionmark', 'n_equal', 'n_at', 'n_and', 'n_exclamation',\n",
    "       'n_space', 'n_tilde', 'n_comma', 'n_plus', 'n_asterisk',\n",
    "       'n_hastag', 'n_dollar', 'n_percent', 'n_redirection'])"
   ]
  },
  {
   "cell_type": "code",
   "execution_count": 7,
   "metadata": {},
   "outputs": [],
   "source": [
    "pipe = Pipeline(\n",
    "    [\n",
    "        ('feature-engine', featureEngine),\n",
    "        ('feature-selector', featureSelector),\n",
    "        ('model', clf)\n",
    "    ]\n",
    ")"
   ]
  },
  {
   "cell_type": "code",
   "execution_count": 8,
   "metadata": {},
   "outputs": [],
   "source": [
    "pickle.dump(pipe, open(os.path.join(project_dir, 'models', 'pipeline-model.pkl'), 'wb'))"
   ]
  },
  {
   "cell_type": "code",
   "execution_count": null,
   "metadata": {},
   "outputs": [],
   "source": []
  }
 ],
 "metadata": {
  "kernelspec": {
   "display_name": "phishing_gthc",
   "language": "python",
   "name": "phishing_gthc"
  },
  "language_info": {
   "codemirror_mode": {
    "name": "ipython",
    "version": 3
   },
   "file_extension": ".py",
   "mimetype": "text/x-python",
   "name": "python",
   "nbconvert_exporter": "python",
   "pygments_lexer": "ipython3",
   "version": "3.12.0"
  }
 },
 "nbformat": 4,
 "nbformat_minor": 2
}
